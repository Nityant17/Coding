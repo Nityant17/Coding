{
 "cells": [
  {
   "cell_type": "code",
   "execution_count": null,
   "id": "d4d444b5",
   "metadata": {},
   "outputs": [],
   "source": [
    "'''\n",
    "Generate a 3x4 NumPy array with random integers between 1 and 50.   \n",
    "a. Calculate and print the Mean, Median, and Standard Deviation of the array \n",
    "b. Print the Sum of all elements and the sum of each row. \n",
    "c. Reshape the 3x4 array into a 2x6 array and print it. \n",
    "'''\n",
    "# Week 3, Code 1\n",
    "# Nityant Agarwal, CC, 240953418"
   ]
  },
  {
   "cell_type": "code",
   "execution_count": 10,
   "id": "fd7a556a",
   "metadata": {},
   "outputs": [],
   "source": [
    "import numpy as np\n",
    "import random as rd"
   ]
  },
  {
   "cell_type": "code",
   "execution_count": 11,
   "id": "09a52742",
   "metadata": {},
   "outputs": [
    {
     "name": "stdout",
     "output_type": "stream",
     "text": [
      "[[47 43  8 22]\n",
      " [ 5 34 18  7]\n",
      " [38 36  3  4]]\n"
     ]
    }
   ],
   "source": [
    "l1 = []\n",
    "for i in range(3):\n",
    "    l2 = []\n",
    "    for j in range(4):\n",
    "        l2.append(rd.randint(1,50))\n",
    "    l1.append(l2)\n",
    "arr = np.array(l1)\n",
    "print(arr)"
   ]
  },
  {
   "cell_type": "code",
   "execution_count": 26,
   "id": "47b91166",
   "metadata": {},
   "outputs": [
    {
     "name": "stdout",
     "output_type": "stream",
     "text": [
      "mean =  22.083333333333332\n",
      "median =  20.0\n",
      "standard deviation =  16.002386974726267\n"
     ]
    }
   ],
   "source": [
    "print(\"mean = \",np.mean(arr))\n",
    "print(\"median = \",np.median(arr))\n",
    "print(\"standard deviation = \",np.std(arr))"
   ]
  },
  {
   "cell_type": "code",
   "execution_count": 29,
   "id": "d329cdb8",
   "metadata": {},
   "outputs": [
    {
     "name": "stdout",
     "output_type": "stream",
     "text": [
      "Sum of all elemnts =  265\n",
      "Sum of each row =  [120  64  81]\n"
     ]
    }
   ],
   "source": [
    "print(\"Sum of all elemnts = \",arr.sum())\n",
    "print(\"Sum of each row = \",arr.sum(axis = 1))"
   ]
  },
  {
   "cell_type": "code",
   "execution_count": 17,
   "id": "85bbf35e",
   "metadata": {
    "scrolled": true
   },
   "outputs": [
    {
     "name": "stdout",
     "output_type": "stream",
     "text": [
      "[[47 43  8 22  5 34]\n",
      " [18  7 38 36  3  4]]\n"
     ]
    }
   ],
   "source": [
    "print(np.reshape(arr,(2,6)))"
   ]
  },
  {
   "cell_type": "code",
   "execution_count": null,
   "id": "07512da9",
   "metadata": {},
   "outputs": [],
   "source": []
  }
 ],
 "metadata": {
  "kernelspec": {
   "display_name": "Python 3 (ipykernel)",
   "language": "python",
   "name": "python3"
  },
  "language_info": {
   "codemirror_mode": {
    "name": "ipython",
    "version": 3
   },
   "file_extension": ".py",
   "mimetype": "text/x-python",
   "name": "python",
   "nbconvert_exporter": "python",
   "pygments_lexer": "ipython3",
   "version": "3.9.13"
  }
 },
 "nbformat": 4,
 "nbformat_minor": 5
}
