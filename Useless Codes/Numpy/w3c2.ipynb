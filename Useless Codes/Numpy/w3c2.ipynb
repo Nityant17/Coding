{
 "cells": [
  {
   "cell_type": "code",
   "execution_count": null,
   "id": "87def7b6",
   "metadata": {},
   "outputs": [],
   "source": [
    "'''\n",
    "Create two (3 * 3) matrices using NumPy and print it. Perform \n",
    "and print the results of the following linear algebra operations \n",
    "a. Matrix addition \n",
    "b. Matrix subtraction \n",
    "c. Matrix multiplication (element-wise and dot product) \n",
    "d. Transpose of a matrix \n",
    "e. Determinant and inverse (if applicable)\n",
    "'''\n",
    "# Week 3, Code 2\n",
    "# Nityant Agarwal, CC, 240953418"
   ]
  },
  {
   "cell_type": "code",
   "execution_count": 2,
   "id": "289803fa",
   "metadata": {},
   "outputs": [],
   "source": [
    "import numpy as np"
   ]
  },
  {
   "cell_type": "code",
   "execution_count": 3,
   "id": "93d54f83",
   "metadata": {
    "scrolled": true
   },
   "outputs": [
    {
     "name": "stdout",
     "output_type": "stream",
     "text": [
      "enter no: 1\n",
      "enter no: 2\n",
      "enter no: 3\n",
      "enter no: 4\n",
      "enter no: 5\n",
      "enter no: 6\n",
      "enter no: 7\n",
      "enter no: 8\n",
      "enter no: 9\n",
      "[[1 2 3]\n",
      " [4 5 6]\n",
      " [7 8 9]]\n",
      "enter no: 9\n",
      "enter no: 8\n",
      "enter no: 7\n",
      "enter no: 6\n",
      "enter no: 5\n",
      "enter no: 4\n",
      "enter no: 3\n",
      "enter no: 2\n",
      "enter no: 1\n",
      "[[9 8 7]\n",
      " [6 5 4]\n",
      " [3 2 1]]\n"
     ]
    }
   ],
   "source": [
    "l = []\n",
    "for j in range(3):\n",
    "    l1 = []\n",
    "    for k in range(3):\n",
    "        l1.append(int(input(\"enter no: \")))\n",
    "    l.append(l1)\n",
    "a1 = np.array(l)    \n",
    "print(a1)\n",
    "l = []\n",
    "for j in range(3):\n",
    "    l1 = []\n",
    "    for k in range(3):\n",
    "        l1.append(int(input(\"enter no: \")))\n",
    "    l.append(l1)\n",
    "a2 = np.array(l)    \n",
    "print(a2)"
   ]
  },
  {
   "cell_type": "code",
   "execution_count": 4,
   "id": "60d42d6e",
   "metadata": {
    "scrolled": true
   },
   "outputs": [
    {
     "name": "stdout",
     "output_type": "stream",
     "text": [
      "Matrix addition:\n",
      " [[10 10 10]\n",
      " [10 10 10]\n",
      " [10 10 10]]\n",
      "Matrix Subtraction:\n",
      " [[-8 -6 -4]\n",
      " [-2  0  2]\n",
      " [ 4  6  8]]\n",
      "Matrix Multiplication (element wise):\n",
      " [[ 30  24  18]\n",
      " [ 84  69  54]\n",
      " [138 114  90]]\n",
      "Matrix Multiplication (dot product):\n",
      " [[ 30  24  18]\n",
      " [ 84  69  54]\n",
      " [138 114  90]]\n",
      "Transpose of a1:\n",
      " [[1 4 7]\n",
      " [2 5 8]\n",
      " [3 6 9]]\n",
      "Transpose of a2:\n",
      " [[9 6 3]\n",
      " [8 5 2]\n",
      " [7 4 1]]\n",
      "Determinant of a1:\n",
      " 0\n",
      "Determinant of a2:\n",
      " 0\n",
      "Inverse of a1:\n",
      " [[ 3.15251974e+15 -6.30503948e+15  3.15251974e+15]\n",
      " [-6.30503948e+15  1.26100790e+16 -6.30503948e+15]\n",
      " [ 3.15251974e+15 -6.30503948e+15  3.15251974e+15]]\n",
      "Inverse of a2:\n",
      " [[ 2.25179981e+15 -4.50359963e+15  2.25179981e+15]\n",
      " [-4.50359963e+15  9.00719925e+15 -4.50359963e+15]\n",
      " [ 2.25179981e+15 -4.50359963e+15  2.25179981e+15]]\n"
     ]
    }
   ],
   "source": [
    "print(\"Matrix addition:\\n\",np.add(a1,a2))\n",
    "print(\"Matrix Subtraction:\\n\",np.subtract(a1,a2))\n",
    "print(\"Matrix Multiplication (element wise):\\n\",np.matmul(a1,a2))\n",
    "print(\"Matrix Multiplication (dot product):\\n\",np.dot(a1,a2))\n",
    "print(\"Transpose of a1:\\n\",np.transpose(a1))\n",
    "print(\"Transpose of a2:\\n\",np.transpose(a2))\n",
    "print(\"Determinant of a1:\\n\",int(np.linalg.det(a1)))\n",
    "print(\"Determinant of a2:\\n\",int(np.linalg.det(a2)))\n",
    "try:\n",
    "    inv1 = np.linalg.inv(a1)\n",
    "except np.linalg.LinAlgError:\n",
    "    pass\n",
    "else:\n",
    "    print(\"Inverse of a1:\\n\",inv1)\n",
    "try:\n",
    "    inv2 = np.linalg.inv(a2)\n",
    "except np.linalg.LinAlgError:\n",
    "    pass\n",
    "else:\n",
    "    print(\"Inverse of a2:\\n\",inv2)\n"
   ]
  },
  {
   "cell_type": "code",
   "execution_count": null,
   "id": "c15df26b",
   "metadata": {},
   "outputs": [],
   "source": []
  }
 ],
 "metadata": {
  "kernelspec": {
   "display_name": "Python 3 (ipykernel)",
   "language": "python",
   "name": "python3"
  },
  "language_info": {
   "codemirror_mode": {
    "name": "ipython",
    "version": 3
   },
   "file_extension": ".py",
   "mimetype": "text/x-python",
   "name": "python",
   "nbconvert_exporter": "python",
   "pygments_lexer": "ipython3",
   "version": "3.9.13"
  }
 },
 "nbformat": 4,
 "nbformat_minor": 5
}
