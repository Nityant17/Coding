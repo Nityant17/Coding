{
 "cells": [
  {
   "cell_type": "code",
   "execution_count": null,
   "id": "f4daae72",
   "metadata": {},
   "outputs": [],
   "source": [
    "'''\n",
    "Create a Series from a list of integers representing daily temperatures (in Celsius) over a week. \n",
    "Assign index labels as day of the week. \n",
    "a. Find and print the average (mean) temperature for the week. \n",
    "b. Identify and print the maximum and minimum temperatures and their respective days. \n",
    "c. Display the temperatures greater than a specific value. \n",
    "d. Convert all temperatures to Fahrenheit. \n",
    "e. Print the days had temperatures above the average. \n",
    "'''\n",
    "# Week 4, Code 1\n",
    "# Nityant Agarwal, CC, 240953418"
   ]
  },
  {
   "cell_type": "code",
   "execution_count": 1,
   "id": "79d46b7d",
   "metadata": {},
   "outputs": [],
   "source": [
    "import pandas as pd"
   ]
  },
  {
   "cell_type": "code",
   "execution_count": 16,
   "id": "eb6b0023",
   "metadata": {},
   "outputs": [
    {
     "name": "stdout",
     "output_type": "stream",
     "text": [
      "Enter temp:1\n",
      "Enter temp:2\n",
      "Enter temp:3\n",
      "Enter temp:4\n",
      "Enter temp:5\n",
      "Enter temp:6\n",
      "Enter temp:7\n",
      "[1, 2, 3, 4, 5, 6, 7]\n"
     ]
    },
    {
     "data": {
      "text/plain": [
       "monday       1\n",
       "tuesday      2\n",
       "wednesday    3\n",
       "thursday     4\n",
       "friday       5\n",
       "saturday     6\n",
       "sunday       7\n",
       "Name: Temperature, dtype: int64"
      ]
     },
     "execution_count": 16,
     "metadata": {},
     "output_type": "execute_result"
    }
   ],
   "source": [
    "l=[]\n",
    "for i in range(7):\n",
    "    l.append(int(input(\"Enter temp:\")))\n",
    "idx=['monday','tuesday','wednesday','thursday','friday','saturday','sunday']\n",
    "print(l)\n",
    "data = pd.Series(l,index=idx,name='Temperature')\n",
    "data"
   ]
  },
  {
   "cell_type": "code",
   "execution_count": 27,
   "id": "e40b42ee",
   "metadata": {},
   "outputs": [
    {
     "name": "stdout",
     "output_type": "stream",
     "text": [
      "Mean: 4.0\n",
      "Max: 7 sunday\n",
      "Min: 1 monday\n"
     ]
    }
   ],
   "source": [
    "print(\"Mean:\",data.mean())\n",
    "print(\"Max:\",data.max(),data[data == data.max()].index[0])\n",
    "print(\"Min:\",data.min(),data[data == data.min()].index[0])"
   ]
  },
  {
   "cell_type": "code",
   "execution_count": 31,
   "id": "8a1b89b7",
   "metadata": {},
   "outputs": [
    {
     "name": "stdout",
     "output_type": "stream",
     "text": [
      "Temp greater than 5:\n",
      " saturday    6\n",
      "sunday      7\n",
      "Name: Temperature, dtype: int64\n"
     ]
    }
   ],
   "source": [
    "print(\"Temp greater than 5:\\n\",data.loc[lambda d: d>5])"
   ]
  },
  {
   "cell_type": "code",
   "execution_count": 34,
   "id": "f2feab20",
   "metadata": {},
   "outputs": [
    {
     "name": "stdout",
     "output_type": "stream",
     "text": [
      "monday       33.8\n",
      "tuesday      35.6\n",
      "wednesday    37.4\n",
      "thursday     39.2\n",
      "friday       41.0\n",
      "saturday     42.8\n",
      "sunday       44.6\n",
      "Name: Temperature, dtype: float64\n"
     ]
    }
   ],
   "source": [
    "fs = (9/5) * data + 32\n",
    "print(fs)"
   ]
  },
  {
   "cell_type": "code",
   "execution_count": 37,
   "id": "80780b03",
   "metadata": {},
   "outputs": [
    {
     "name": "stdout",
     "output_type": "stream",
     "text": [
      "Temp greater than avg:\n",
      " friday      5\n",
      "saturday    6\n",
      "sunday      7\n",
      "Name: Temperature, dtype: int64\n"
     ]
    }
   ],
   "source": [
    "print(\"Temp greater than avg:\\n\",data.loc[lambda d: d>data.mean()])"
   ]
  },
  {
   "cell_type": "code",
   "execution_count": null,
   "id": "689be617",
   "metadata": {},
   "outputs": [],
   "source": []
  },
  {
   "cell_type": "code",
   "execution_count": null,
   "id": "14ac7a1d",
   "metadata": {},
   "outputs": [],
   "source": [
    "'''\n",
    "Create a data frame with details of 10 students and columns as Roll Number, Name, Gender, Marks1, Marks2, Marks3. \n",
    "a. Create a new column with total marks \n",
    "b. Find the lowest marks in Marks1 \n",
    "c. Find the Highest marks in Marks2 \n",
    "d. Find the average marks in Marks3 \n",
    "e. Find student name with highest average \n",
    "f. Find how many students failed in Marks2 (<40)\n",
    "'''\n",
    "# Week 4, Code 2\n",
    "# Nityant Agarwal, CC, 240953418"
   ]
  },
  {
   "cell_type": "code",
   "execution_count": 38,
   "id": "1f2f6a2a",
   "metadata": {},
   "outputs": [
    {
     "data": {
      "text/html": [
       "<div>\n",
       "<style scoped>\n",
       "    .dataframe tbody tr th:only-of-type {\n",
       "        vertical-align: middle;\n",
       "    }\n",
       "\n",
       "    .dataframe tbody tr th {\n",
       "        vertical-align: top;\n",
       "    }\n",
       "\n",
       "    .dataframe thead th {\n",
       "        text-align: right;\n",
       "    }\n",
       "</style>\n",
       "<table border=\"1\" class=\"dataframe\">\n",
       "  <thead>\n",
       "    <tr style=\"text-align: right;\">\n",
       "      <th></th>\n",
       "      <th>Roll Number</th>\n",
       "      <th>Name</th>\n",
       "      <th>Gender</th>\n",
       "      <th>Marks1</th>\n",
       "      <th>Marks2</th>\n",
       "      <th>Marks3</th>\n",
       "    </tr>\n",
       "  </thead>\n",
       "  <tbody>\n",
       "    <tr>\n",
       "      <th>0</th>\n",
       "      <td>1</td>\n",
       "      <td>A</td>\n",
       "      <td>F</td>\n",
       "      <td>85</td>\n",
       "      <td>89</td>\n",
       "      <td>88</td>\n",
       "    </tr>\n",
       "    <tr>\n",
       "      <th>1</th>\n",
       "      <td>2</td>\n",
       "      <td>B</td>\n",
       "      <td>M</td>\n",
       "      <td>78</td>\n",
       "      <td>75</td>\n",
       "      <td>79</td>\n",
       "    </tr>\n",
       "    <tr>\n",
       "      <th>2</th>\n",
       "      <td>3</td>\n",
       "      <td>C</td>\n",
       "      <td>M</td>\n",
       "      <td>92</td>\n",
       "      <td>91</td>\n",
       "      <td>90</td>\n",
       "    </tr>\n",
       "    <tr>\n",
       "      <th>3</th>\n",
       "      <td>4</td>\n",
       "      <td>D</td>\n",
       "      <td>M</td>\n",
       "      <td>88</td>\n",
       "      <td>85</td>\n",
       "      <td>87</td>\n",
       "    </tr>\n",
       "    <tr>\n",
       "      <th>4</th>\n",
       "      <td>5</td>\n",
       "      <td>E</td>\n",
       "      <td>F</td>\n",
       "      <td>90</td>\n",
       "      <td>92</td>\n",
       "      <td>91</td>\n",
       "    </tr>\n",
       "    <tr>\n",
       "      <th>5</th>\n",
       "      <td>6</td>\n",
       "      <td>F</td>\n",
       "      <td>M</td>\n",
       "      <td>76</td>\n",
       "      <td>79</td>\n",
       "      <td>80</td>\n",
       "    </tr>\n",
       "    <tr>\n",
       "      <th>6</th>\n",
       "      <td>7</td>\n",
       "      <td>G</td>\n",
       "      <td>F</td>\n",
       "      <td>84</td>\n",
       "      <td>86</td>\n",
       "      <td>85</td>\n",
       "    </tr>\n",
       "    <tr>\n",
       "      <th>7</th>\n",
       "      <td>8</td>\n",
       "      <td>H</td>\n",
       "      <td>M</td>\n",
       "      <td>77</td>\n",
       "      <td>80</td>\n",
       "      <td>82</td>\n",
       "    </tr>\n",
       "    <tr>\n",
       "      <th>8</th>\n",
       "      <td>9</td>\n",
       "      <td>I</td>\n",
       "      <td>F</td>\n",
       "      <td>93</td>\n",
       "      <td>94</td>\n",
       "      <td>92</td>\n",
       "    </tr>\n",
       "    <tr>\n",
       "      <th>9</th>\n",
       "      <td>10</td>\n",
       "      <td>J</td>\n",
       "      <td>M</td>\n",
       "      <td>85</td>\n",
       "      <td>82</td>\n",
       "      <td>84</td>\n",
       "    </tr>\n",
       "  </tbody>\n",
       "</table>\n",
       "</div>"
      ],
      "text/plain": [
       "   Roll Number Name Gender  Marks1  Marks2  Marks3\n",
       "0            1    A      F      85      89      88\n",
       "1            2    B      M      78      75      79\n",
       "2            3    C      M      92      91      90\n",
       "3            4    D      M      88      85      87\n",
       "4            5    E      F      90      92      91\n",
       "5            6    F      M      76      79      80\n",
       "6            7    G      F      84      86      85\n",
       "7            8    H      M      77      80      82\n",
       "8            9    I      F      93      94      92\n",
       "9           10    J      M      85      82      84"
      ]
     },
     "execution_count": 38,
     "metadata": {},
     "output_type": "execute_result"
    }
   ],
   "source": [
    "dat = {\n",
    "    'Roll Number': [1, 2, 3, 4, 5, 6, 7, 8, 9, 10],\n",
    "    'Name': ['A', 'B', 'C', 'D', 'E', 'F', 'G', 'H', 'I', 'J'],\n",
    "    'Gender': ['F', 'M', 'M', 'M', 'F', 'M', 'F', 'M', 'F', 'M'],\n",
    "    'Marks1': [85, 78, 92, 88, 90, 76, 84, 77, 93, 85],\n",
    "    'Marks2': [89, 75, 91, 85, 92, 79, 86, 80, 94, 82],\n",
    "    'Marks3': [88, 79, 90, 87, 91, 80, 85, 82, 92, 84]\n",
    "}\n",
    "df = pd.DataFrame(dat)\n",
    "df"
   ]
  },
  {
   "cell_type": "code",
   "execution_count": 39,
   "id": "3b675c75",
   "metadata": {},
   "outputs": [
    {
     "data": {
      "text/html": [
       "<div>\n",
       "<style scoped>\n",
       "    .dataframe tbody tr th:only-of-type {\n",
       "        vertical-align: middle;\n",
       "    }\n",
       "\n",
       "    .dataframe tbody tr th {\n",
       "        vertical-align: top;\n",
       "    }\n",
       "\n",
       "    .dataframe thead th {\n",
       "        text-align: right;\n",
       "    }\n",
       "</style>\n",
       "<table border=\"1\" class=\"dataframe\">\n",
       "  <thead>\n",
       "    <tr style=\"text-align: right;\">\n",
       "      <th></th>\n",
       "      <th>Roll Number</th>\n",
       "      <th>Name</th>\n",
       "      <th>Gender</th>\n",
       "      <th>Marks1</th>\n",
       "      <th>Marks2</th>\n",
       "      <th>Marks3</th>\n",
       "      <th>Total</th>\n",
       "    </tr>\n",
       "  </thead>\n",
       "  <tbody>\n",
       "    <tr>\n",
       "      <th>0</th>\n",
       "      <td>1</td>\n",
       "      <td>A</td>\n",
       "      <td>F</td>\n",
       "      <td>85</td>\n",
       "      <td>89</td>\n",
       "      <td>88</td>\n",
       "      <td>262</td>\n",
       "    </tr>\n",
       "    <tr>\n",
       "      <th>1</th>\n",
       "      <td>2</td>\n",
       "      <td>B</td>\n",
       "      <td>M</td>\n",
       "      <td>78</td>\n",
       "      <td>75</td>\n",
       "      <td>79</td>\n",
       "      <td>232</td>\n",
       "    </tr>\n",
       "    <tr>\n",
       "      <th>2</th>\n",
       "      <td>3</td>\n",
       "      <td>C</td>\n",
       "      <td>M</td>\n",
       "      <td>92</td>\n",
       "      <td>91</td>\n",
       "      <td>90</td>\n",
       "      <td>273</td>\n",
       "    </tr>\n",
       "    <tr>\n",
       "      <th>3</th>\n",
       "      <td>4</td>\n",
       "      <td>D</td>\n",
       "      <td>M</td>\n",
       "      <td>88</td>\n",
       "      <td>85</td>\n",
       "      <td>87</td>\n",
       "      <td>260</td>\n",
       "    </tr>\n",
       "    <tr>\n",
       "      <th>4</th>\n",
       "      <td>5</td>\n",
       "      <td>E</td>\n",
       "      <td>F</td>\n",
       "      <td>90</td>\n",
       "      <td>92</td>\n",
       "      <td>91</td>\n",
       "      <td>273</td>\n",
       "    </tr>\n",
       "    <tr>\n",
       "      <th>5</th>\n",
       "      <td>6</td>\n",
       "      <td>F</td>\n",
       "      <td>M</td>\n",
       "      <td>76</td>\n",
       "      <td>79</td>\n",
       "      <td>80</td>\n",
       "      <td>235</td>\n",
       "    </tr>\n",
       "    <tr>\n",
       "      <th>6</th>\n",
       "      <td>7</td>\n",
       "      <td>G</td>\n",
       "      <td>F</td>\n",
       "      <td>84</td>\n",
       "      <td>86</td>\n",
       "      <td>85</td>\n",
       "      <td>255</td>\n",
       "    </tr>\n",
       "    <tr>\n",
       "      <th>7</th>\n",
       "      <td>8</td>\n",
       "      <td>H</td>\n",
       "      <td>M</td>\n",
       "      <td>77</td>\n",
       "      <td>80</td>\n",
       "      <td>82</td>\n",
       "      <td>239</td>\n",
       "    </tr>\n",
       "    <tr>\n",
       "      <th>8</th>\n",
       "      <td>9</td>\n",
       "      <td>I</td>\n",
       "      <td>F</td>\n",
       "      <td>93</td>\n",
       "      <td>94</td>\n",
       "      <td>92</td>\n",
       "      <td>279</td>\n",
       "    </tr>\n",
       "    <tr>\n",
       "      <th>9</th>\n",
       "      <td>10</td>\n",
       "      <td>J</td>\n",
       "      <td>M</td>\n",
       "      <td>85</td>\n",
       "      <td>82</td>\n",
       "      <td>84</td>\n",
       "      <td>251</td>\n",
       "    </tr>\n",
       "  </tbody>\n",
       "</table>\n",
       "</div>"
      ],
      "text/plain": [
       "   Roll Number Name Gender  Marks1  Marks2  Marks3  Total\n",
       "0            1    A      F      85      89      88    262\n",
       "1            2    B      M      78      75      79    232\n",
       "2            3    C      M      92      91      90    273\n",
       "3            4    D      M      88      85      87    260\n",
       "4            5    E      F      90      92      91    273\n",
       "5            6    F      M      76      79      80    235\n",
       "6            7    G      F      84      86      85    255\n",
       "7            8    H      M      77      80      82    239\n",
       "8            9    I      F      93      94      92    279\n",
       "9           10    J      M      85      82      84    251"
      ]
     },
     "execution_count": 39,
     "metadata": {},
     "output_type": "execute_result"
    }
   ],
   "source": [
    "df['Total'] = df['Marks1'] + df['Marks2'] + df['Marks3']\n",
    "df"
   ]
  },
  {
   "cell_type": "code",
   "execution_count": 40,
   "id": "22c2917f",
   "metadata": {},
   "outputs": [
    {
     "name": "stdout",
     "output_type": "stream",
     "text": [
      "Lowest Marks in Marks1: 76\n",
      "Highest Marks in Marks2: 94\n",
      "Avg Marks in Marks3: 85.8\n",
      "Student with Highest Average:\n",
      "\n",
      " 8    I\n",
      "Name: Name, dtype: object\n"
     ]
    }
   ],
   "source": [
    "print(\"Lowest Marks in Marks1:\",df.Marks1.min())\n",
    "print(\"Highest Marks in Marks2:\",df.Marks2.max())\n",
    "print(\"Avg Marks in Marks3:\",df.Marks3.mean())\n",
    "print(\"Student with Highest Average:\\n\\n\",df.Name.loc[df.Total == df.Total.max()])"
   ]
  },
  {
   "cell_type": "code",
   "execution_count": 41,
   "id": "4c2d70c9",
   "metadata": {},
   "outputs": [
    {
     "name": "stdout",
     "output_type": "stream",
     "text": [
      "No. of students who failed in Marks2: 0\n"
     ]
    }
   ],
   "source": [
    "print(\"No. of students who failed in Marks2:\",len(df.loc[df.Marks2 < 40]))"
   ]
  },
  {
   "cell_type": "code",
   "execution_count": null,
   "id": "fbcf454a",
   "metadata": {},
   "outputs": [],
   "source": []
  }
 ],
 "metadata": {
  "kernelspec": {
   "display_name": "Python 3 (ipykernel)",
   "language": "python",
   "name": "python3"
  },
  "language_info": {
   "codemirror_mode": {
    "name": "ipython",
    "version": 3
   },
   "file_extension": ".py",
   "mimetype": "text/x-python",
   "name": "python",
   "nbconvert_exporter": "python",
   "pygments_lexer": "ipython3",
   "version": "3.9.13"
  }
 },
 "nbformat": 4,
 "nbformat_minor": 5
}
